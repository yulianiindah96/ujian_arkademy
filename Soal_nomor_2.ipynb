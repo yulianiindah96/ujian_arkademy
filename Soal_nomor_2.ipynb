{
 "cells": [
  {
   "cell_type": "markdown",
   "metadata": {},
   "source": [
    "## VALIDASI PASSWORD"
   ]
  },
  {
   "cell_type": "code",
   "execution_count": 21,
   "metadata": {},
   "outputs": [
    {
     "name": "stdout",
     "output_type": "stream",
     "text": [
      "True\n"
     ]
    }
   ],
   "source": [
    "import re\n",
    "password = \"passW0rd=\"\n",
    "while True:   \n",
    "    if (len(password)<8): \n",
    "        flag = -1\n",
    "        break\n",
    "    elif not re.search(\"[a-z]\", password): \n",
    "        flag = -1\n",
    "        break\n",
    "    elif not re.search(\"[A-Z]\", password): \n",
    "        flag = -1\n",
    "        break\n",
    "    elif not re.search(\"[0-9]\", password): \n",
    "        flag = -1\n",
    "        break\n",
    "    elif not re.search(\"[=_@$]\", password): \n",
    "        flag = -1\n",
    "        break\n",
    "    elif re.search(\"\\s\", password): \n",
    "        flag = -1\n",
    "        break\n",
    "    else: \n",
    "        flag = 0\n",
    "        print(\"True\") \n",
    "        break\n",
    "if flag ==-1: \n",
    "    print(\"False\")"
   ]
  },
  {
   "cell_type": "markdown",
   "metadata": {},
   "source": [
    "## VALIDASI USERNAME"
   ]
  },
  {
   "cell_type": "code",
   "execution_count": 22,
   "metadata": {},
   "outputs": [
    {
     "name": "stdout",
     "output_type": "stream",
     "text": [
      "True\n"
     ]
    }
   ],
   "source": [
    "username = \"Xrutaf888\"\n",
    "while True:   \n",
    "    if (len(username)<5): \n",
    "        flag = -1\n",
    "        break\n",
    "    if (len(username)>9): \n",
    "        flag = -1\n",
    "        break\n",
    "    elif not re.search(\"[a-z]\", username): \n",
    "        flag = -1\n",
    "        break\n",
    "    elif not re.search(\"[A-Z]\", username): \n",
    "        flag = -1\n",
    "        break\n",
    "    elif re.search(\"^[0-9]\", username): \n",
    "        flag = -1\n",
    "        break\n",
    "    elif re.search(\"^[=_@$]\", username): \n",
    "        flag = -1\n",
    "        break\n",
    "    elif re.search(\"\\s\", username): \n",
    "        flag = -1\n",
    "        break\n",
    "    else: \n",
    "        flag = 0\n",
    "        print(\"True\") \n",
    "        break\n",
    "\n",
    "if flag ==-1: \n",
    "    print(\"False\")"
   ]
  },
  {
   "cell_type": "code",
   "execution_count": null,
   "metadata": {},
   "outputs": [],
   "source": []
  }
 ],
 "metadata": {
  "kernelspec": {
   "display_name": "Python 3",
   "language": "python",
   "name": "python3"
  },
  "language_info": {
   "codemirror_mode": {
    "name": "ipython",
    "version": 3
   },
   "file_extension": ".py",
   "mimetype": "text/x-python",
   "name": "python",
   "nbconvert_exporter": "python",
   "pygments_lexer": "ipython3",
   "version": "3.7.3"
  }
 },
 "nbformat": 4,
 "nbformat_minor": 2
}
