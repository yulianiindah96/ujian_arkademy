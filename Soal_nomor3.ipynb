{
 "cells": [
  {
   "cell_type": "code",
   "execution_count": 227,
   "metadata": {},
   "outputs": [],
   "source": [
    "banyaknya = 5\n",
    "c=0\n",
    "string = \"\"\n",
    "bar = 0\n",
    "x = 5"
   ]
  },
  {
   "cell_type": "code",
   "execution_count": 228,
   "metadata": {},
   "outputs": [
    {
     "name": "stdout",
     "output_type": "stream",
     "text": [
      "2\n",
      "3\n",
      "5\n",
      "7\n"
     ]
    }
   ],
   "source": [
    "for a in range (2,10):\n",
    "    mod = 1;\n",
    "    for b in range (2,a,1):\n",
    "        if (a%b==0):\n",
    "            mod=0;\n",
    "    if (mod==1):\n",
    "        print(a); \n",
    "   "
   ]
  },
  {
   "cell_type": "code",
   "execution_count": 229,
   "metadata": {},
   "outputs": [],
   "source": [
    "n=5\n",
    "i=2"
   ]
  },
  {
   "cell_type": "code",
   "execution_count": 230,
   "metadata": {},
   "outputs": [
    {
     "name": "stdout",
     "output_type": "stream",
     "text": [
      "2\n",
      "3\n",
      "5\n",
      "7\n"
     ]
    }
   ],
   "source": [
    "for a in range (2,10,1):\n",
    "    mod =1;\n",
    "    for b in range (2,a,1):\n",
    "        if (a%b==0):\n",
    "           mod=0;\n",
    "\n",
    "    if (mod==1):\n",
    "        print(a);"
   ]
  },
  {
   "cell_type": "code",
   "execution_count": 231,
   "metadata": {},
   "outputs": [
    {
     "ename": "IndentationError",
     "evalue": "expected an indented block (<ipython-input-231-45dcb8b96178>, line 14)",
     "output_type": "error",
     "traceback": [
      "\u001b[1;36m  File \u001b[1;32m\"<ipython-input-231-45dcb8b96178>\"\u001b[1;36m, line \u001b[1;32m14\u001b[0m\n\u001b[1;33m    string = string + a\u001b[0m\n\u001b[1;37m    ^\u001b[0m\n\u001b[1;31mIndentationError\u001b[0m\u001b[1;31m:\u001b[0m expected an indented block\n"
     ]
    }
   ],
   "source": [
    "# Looping Baris\n",
    "while bar <= x:\n",
    "    prima = True\n",
    "    kol = bar\n",
    "    # Looping Kolom\n",
    "    while kol > 0:\n",
    "        for a in range (2,10,1):\n",
    "            mod = 1;\n",
    "            for b in range (2,a,1):\n",
    "                if (a%b==0):\n",
    "                    mod=0;\n",
    "                if (mod==1):\n",
    "                    #print(a);\n",
    "        string = string + a\n",
    "        kol = kol - 1\n",
    "    string = string + \"\\n\"\n",
    "    bar = bar + 1\n",
    "print (string)\n"
   ]
  },
  {
   "cell_type": "code",
   "execution_count": 213,
   "metadata": {},
   "outputs": [
    {
     "name": "stdout",
     "output_type": "stream",
     "text": [
      "2\n",
      "3\n",
      "5\n",
      "7\n"
     ]
    }
   ],
   "source": [
    "for a in range (2,10,1):\n",
    "    mod = 1;\n",
    "    for b in range (2,a,1):\n",
    "        if (a%b==0):\n",
    "           mod=0;\n",
    "    if (mod==1):\n",
    "        print(a);"
   ]
  },
  {
   "cell_type": "code",
   "execution_count": 42,
   "metadata": {},
   "outputs": [],
   "source": []
  },
  {
   "cell_type": "code",
   "execution_count": null,
   "metadata": {},
   "outputs": [],
   "source": []
  }
 ],
 "metadata": {
  "kernelspec": {
   "display_name": "Python 3",
   "language": "python",
   "name": "python3"
  },
  "language_info": {
   "codemirror_mode": {
    "name": "ipython",
    "version": 3
   },
   "file_extension": ".py",
   "mimetype": "text/x-python",
   "name": "python",
   "nbconvert_exporter": "python",
   "pygments_lexer": "ipython3",
   "version": "3.7.3"
  }
 },
 "nbformat": 4,
 "nbformat_minor": 2
}
