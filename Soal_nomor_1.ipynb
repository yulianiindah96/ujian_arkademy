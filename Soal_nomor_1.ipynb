{
 "cells": [
  {
   "cell_type": "code",
   "execution_count": 21,
   "metadata": {},
   "outputs": [],
   "source": [
    "class list_school(object):\n",
    "    def __init__(self,name, year_in,year_out,major):\n",
    "        self.name = name\n",
    "        self.year_in = year_in\n",
    "        self.year_out = year_out\n",
    "        if (major == \" \" or major == \"\" or major == \"  \" or major == 0) :\n",
    "            major_null = \"Null\"\n",
    "            self.major = major_null\n",
    "        else:\n",
    "            self.major = major\n",
    "\n",
    "class skills(object):\n",
    "    def __init__(self,skill_name,level):\n",
    "        self.skill_name = skill_name\n",
    "        if (level == 0) :\n",
    "            level = \"beginner\"\n",
    "        elif(level == 1):\n",
    "            level = \"advanced\"\n",
    "        elif(level == 2):\n",
    "            level = \"expert\"\n",
    "        self.level = level\n",
    "        "
   ]
  },
  {
   "cell_type": "code",
   "execution_count": 29,
   "metadata": {},
   "outputs": [],
   "source": [
    "my_name = \"Yuliani Indah Purnama Sari\""
   ]
  },
  {
   "cell_type": "code",
   "execution_count": 30,
   "metadata": {},
   "outputs": [],
   "source": [
    "age = 23"
   ]
  },
  {
   "cell_type": "code",
   "execution_count": 31,
   "metadata": {},
   "outputs": [],
   "source": [
    "address = \"Dusun Krajan RT 002/RW 003, Kecamatan Puger Kabupaten Jember\""
   ]
  },
  {
   "cell_type": "code",
   "execution_count": 32,
   "metadata": {},
   "outputs": [],
   "source": [
    "Hobi = [\"Social Media\",\"Mendengarkan musik\"]"
   ]
  },
  {
   "cell_type": "code",
   "execution_count": 33,
   "metadata": {},
   "outputs": [],
   "source": [
    "is_married = False"
   ]
  },
  {
   "cell_type": "code",
   "execution_count": 34,
   "metadata": {},
   "outputs": [],
   "source": [
    "school = list_school(\"Diploma\",2015,2018,\"Teknik Komputer\")"
   ]
  },
  {
   "cell_type": "code",
   "execution_count": 35,
   "metadata": {},
   "outputs": [],
   "source": [
    "skill = skills(\"Python\",1)"
   ]
  },
  {
   "cell_type": "code",
   "execution_count": 36,
   "metadata": {},
   "outputs": [],
   "source": [
    "interest_in_coding = True"
   ]
  },
  {
   "cell_type": "code",
   "execution_count": 37,
   "metadata": {},
   "outputs": [],
   "source": [
    "import json"
   ]
  },
  {
   "cell_type": "code",
   "execution_count": 38,
   "metadata": {},
   "outputs": [],
   "source": [
    "data = {\n",
    "    \"Name\" : my_name,\n",
    "    \"Age\" : age,\n",
    "    \"Address\" : address,\n",
    "    \"Hobi\": Hobi,\n",
    "    \"is_married\" : is_married,\n",
    "    \"School\" : school.name,\n",
    "    \"Major\" : school.major,\n",
    "    \"Year_in\" : school.year_in,\n",
    "    \"Year_out\" : school.year_out,\n",
    "    \"Skill\" : skill.skill_name,\n",
    "    \"Level_Skill\" : skill.level\n",
    "    \n",
    "}"
   ]
  },
  {
   "cell_type": "code",
   "execution_count": 39,
   "metadata": {},
   "outputs": [
    {
     "name": "stdout",
     "output_type": "stream",
     "text": [
      "{\n",
      "      \"Name\": \"Yuliani Indah Purnama Sari\",\n",
      "      \"Age\": 23,\n",
      "      \"Address\": \"Dusun Krajan RT 002/RW 003, Kecamatan Puger Kabupaten Jember\",\n",
      "      \"Hobi\": [\n",
      "            \"Social Media\",\n",
      "            \"Mendengarkan musik\"\n",
      "      ],\n",
      "      \"is_married\": false,\n",
      "      \"School\": \"Diploma\",\n",
      "      \"Major\": \"Teknik Komputer\",\n",
      "      \"Year_in\": 2015,\n",
      "      \"Year_out\": 2018,\n",
      "      \"Skill\": \"Python\",\n",
      "      \"Level_Skill\": \"advanced\"\n",
      "}\n"
     ]
    }
   ],
   "source": [
    "print(json.dumps(data, indent=6))"
   ]
  },
  {
   "cell_type": "code",
   "execution_count": null,
   "metadata": {},
   "outputs": [],
   "source": []
  },
  {
   "cell_type": "code",
   "execution_count": null,
   "metadata": {},
   "outputs": [],
   "source": []
  }
 ],
 "metadata": {
  "kernelspec": {
   "display_name": "Python 3",
   "language": "python",
   "name": "python3"
  },
  "language_info": {
   "codemirror_mode": {
    "name": "ipython",
    "version": 3
   },
   "file_extension": ".py",
   "mimetype": "text/x-python",
   "name": "python",
   "nbconvert_exporter": "python",
   "pygments_lexer": "ipython3",
   "version": "3.7.3"
  }
 },
 "nbformat": 4,
 "nbformat_minor": 2
}
